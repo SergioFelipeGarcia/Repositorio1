{
 "cells": [
  {
   "cell_type": "code",
   "execution_count": 1,
   "id": "115f4bf2",
   "metadata": {},
   "outputs": [
    {
     "name": "stdout",
     "output_type": "stream",
     "text": [
      "https://www.facebook.com/valerie.moreau.fashion\n",
      "https://www.instagram.com/valerie_moreau/\n",
      "https://valeriemoreau.com/\n",
      "https://valeriemoreau.com/en/\n",
      "https://valeriemoreau.com/fr/\n",
      "https://valeriemoreau.com/\n",
      "https://valeriemoreau.com/nueva-coleccion-2/\n",
      "https://valeriemoreau.com/blusas-de-ceremonia-mujer/\n",
      "https://valeriemoreau.com/blusas-de-ceremonia-mujer/para-bodas/\n",
      "https://valeriemoreau.com/blusas-de-ceremonia-mujer/estampadas/\n",
      "https://valeriemoreau.com/blusas-de-ceremonia-mujer/blancas/\n",
      "https://valeriemoreau.com/pantalones-de-fiesta-de-mujer/\n",
      "https://valeriemoreau.com/faldas/\n",
      "https://valeriemoreau.com/faldas/largas-para-bodas/\n",
      "https://valeriemoreau.com/monos/\n",
      "https://valeriemoreau.com/monos/de-fiesta-para-bodas/\n",
      "https://valeriemoreau.com/chaquetas/\n",
      "https://valeriemoreau.com/chaquetas/trajes-de-chaqueta-mujer/\n",
      "https://valeriemoreau.com/chaquetas/mujer/\n",
      "https://valeriemoreau.com/vestidos/\n",
      "https://valeriemoreau.com/vestidos/de-fiesta/\n",
      "https://valeriemoreau.com/vestidos/boda/\n",
      "https://valeriemoreau.com/vestidos/de-fiesta/para-senoras/\n",
      "https://valeriemoreau.com/vestidos/estampados/\n",
      "https://valeriemoreau.com/bolsos-de-mujer/\n",
      "https://valeriemoreau.com/taller-de-costura-a-medida-en-madrid/\n",
      "https://valeriemoreau.com/trajes-vestidos-de-novia-a-medida/\n",
      "https://valeriemoreau.com/vestidos-de-madrina-a-medida/\n",
      "https://valeriemoreau.com/ninos-de-arras/\n",
      "https://valeriemoreau.com/vestidos-ceremonia-nina/\n",
      "https://valeriemoreau.com/contacto-valerie-moreau/\n",
      "https://valeriemoreau.com/quienes-somos/\n",
      "https://valeriemoreau.com/mis-colecciones/\n",
      "https://valeriemoreau.com/mis-clientas/\n",
      "https://valeriemoreau.com/prensa/\n",
      "https://valeriemoreau.com/desfiles/\n",
      "https://valeriemoreau.com/contacto-valerie-moreau/\n",
      "https://valeriemoreau.com/category/blog/\n",
      "https://valeriemoreau.com/lista-de-deseos/?wishlist-action\n",
      "https://valeriemoreau.com/cart/\n",
      "https://valeriemoreau.com/my-account/\n"
     ]
    },
    {
     "ename": "KeyError",
     "evalue": "'href'",
     "output_type": "error",
     "traceback": [
      "\u001b[1;31m---------------------------------------------------------------------------\u001b[0m",
      "\u001b[1;31mKeyError\u001b[0m                                  Traceback (most recent call last)",
      "\u001b[1;32m~\\AppData\\Local\\Temp\\ipykernel_2108\\1426316003.py\u001b[0m in \u001b[0;36m<module>\u001b[1;34m\u001b[0m\n\u001b[0;32m      8\u001b[0m \u001b[0mresultado\u001b[0m\u001b[1;33m=\u001b[0m\u001b[0msoup\u001b[0m\u001b[1;33m.\u001b[0m\u001b[0mfind_all\u001b[0m\u001b[1;33m(\u001b[0m\u001b[1;34m'a'\u001b[0m\u001b[1;33m)\u001b[0m\u001b[1;33m\u001b[0m\u001b[1;33m\u001b[0m\u001b[0m\n\u001b[0;32m      9\u001b[0m \u001b[1;32mfor\u001b[0m \u001b[0mitem\u001b[0m \u001b[1;32min\u001b[0m \u001b[0mresultado\u001b[0m\u001b[1;33m:\u001b[0m\u001b[1;33m\u001b[0m\u001b[1;33m\u001b[0m\u001b[0m\n\u001b[1;32m---> 10\u001b[1;33m     \u001b[0mprint\u001b[0m\u001b[1;33m(\u001b[0m\u001b[0mitem\u001b[0m\u001b[1;33m[\u001b[0m\u001b[1;34m'href'\u001b[0m\u001b[1;33m]\u001b[0m\u001b[1;33m)\u001b[0m\u001b[1;33m\u001b[0m\u001b[1;33m\u001b[0m\u001b[0m\n\u001b[0m",
      "\u001b[1;32m~\\anaconda3\\lib\\site-packages\\bs4\\element.py\u001b[0m in \u001b[0;36m__getitem__\u001b[1;34m(self, key)\u001b[0m\n\u001b[0;32m   1517\u001b[0m         \"\"\"tag[key] returns the value of the 'key' attribute for the Tag,\n\u001b[0;32m   1518\u001b[0m         and throws an exception if it's not there.\"\"\"\n\u001b[1;32m-> 1519\u001b[1;33m         \u001b[1;32mreturn\u001b[0m \u001b[0mself\u001b[0m\u001b[1;33m.\u001b[0m\u001b[0mattrs\u001b[0m\u001b[1;33m[\u001b[0m\u001b[0mkey\u001b[0m\u001b[1;33m]\u001b[0m\u001b[1;33m\u001b[0m\u001b[1;33m\u001b[0m\u001b[0m\n\u001b[0m\u001b[0;32m   1520\u001b[0m \u001b[1;33m\u001b[0m\u001b[0m\n\u001b[0;32m   1521\u001b[0m     \u001b[1;32mdef\u001b[0m \u001b[0m__iter__\u001b[0m\u001b[1;33m(\u001b[0m\u001b[0mself\u001b[0m\u001b[1;33m)\u001b[0m\u001b[1;33m:\u001b[0m\u001b[1;33m\u001b[0m\u001b[1;33m\u001b[0m\u001b[0m\n",
      "\u001b[1;31mKeyError\u001b[0m: 'href'"
     ]
    }
   ],
   "source": [
    "import requests\n",
    "from bs4 import BeautifulSoup\n",
    "\n",
    "web='https://valeriemoreau.com/'\n",
    "pagina=requests.get(web)\n",
    "#print(pagina.content)\n",
    "soup=BeautifulSoup(pagina.content,'html.parser')\n",
    "resultado=soup.find_all('a')\n",
    "for item in resultado:\n",
    "    print(item['href'])"
   ]
  },
  {
   "cell_type": "code",
   "execution_count": 2,
   "id": "f29d232d",
   "metadata": {},
   "outputs": [
    {
     "data": {
      "image/png": "[encoded data removed]",
      "text/plain": [
       "<Figure size 640x480 with 1 Axes>"
      ]
     },
     "metadata": {},
     "output_type": "display_data"
    }
   ],
   "source": [
    "import matplotlib.pyplot as plt\n",
    "fig, ax = plt.subplots()\n",
    "ax.pie([5, 4, 3, 2, 1])\n",
    "plt.show()"
   ]
  },
  {
   "cell_type": "code",
   "execution_count": null,
   "id": "7bf11409",
   "metadata": {},
   "outputs": [],
   "source": []
  }
 ],
 "metadata": {
  "kernelspec": {
   "display_name": "Python 3 (ipykernel)",
   "language": "python",
   "name": "python3"
  },
  "language_info": {
   "codemirror_mode": {
    "name": "ipython",
    "version": 3
   },
   "file_extension": ".py",
   "mimetype": "text/x-python",
   "name": "python",
   "nbconvert_exporter": "python",
   "pygments_lexer": "ipython3",
   "version": "3.9.13"
  }
 },
 "nbformat": 4,
 "nbformat_minor": 5
}
